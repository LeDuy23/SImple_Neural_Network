{
  "nbformat": 4,
  "nbformat_minor": 0,
  "metadata": {
    "colab": {
      "provenance": [],
      "authorship_tag": "ABX9TyO2eL/ZKMBVaGw0/QcYSs4E",
      "include_colab_link": true
    },
    "kernelspec": {
      "name": "python3",
      "display_name": "Python 3"
    },
    "language_info": {
      "name": "python"
    }
  },
  "cells": [
    {
      "cell_type": "markdown",
      "metadata": {
        "id": "view-in-github",
        "colab_type": "text"
      },
      "source": [
        "<a href=\"https://colab.research.google.com/github/LeDuy23/SImple_Neural_Network/blob/main/simple_backpop.ipynb\" target=\"_parent\"><img src=\"https://colab.research.google.com/assets/colab-badge.svg\" alt=\"Open In Colab\"/></a>"
      ]
    },
    {
      "cell_type": "code",
      "execution_count": null,
      "metadata": {
        "id": "GqIpeJKSmrNG"
      },
      "outputs": [],
      "source": [
        "import numpy as np"
      ]
    },
    {
      "cell_type": "code",
      "source": [
        "# forward pass\n",
        "def forward_pass(x, w1, w2):\n",
        "    h = x * w1\n",
        "    y_hat = h * w2\n",
        "    return h, y_hat\n",
        "\n",
        "# loss function\n",
        "def mse_loss(y, y_hat):\n",
        "    return 0.5 * (y - y_hat) ** 2\n",
        "\n",
        "# gradients (backpropagation)\n",
        "def compute_gradients(x, w1, w2, y):\n",
        "    h, y_hat = forward_pass(x, w1, w2)\n",
        "    dL_dy_hat = y_hat - y\n",
        "    dL_dW2 = dL_dy_hat * h\n",
        "    dL_dW1 = dL_dy_hat * (x * w2)\n",
        "    return dL_dW1, dL_dW2\n",
        "\n",
        "# training loop\n",
        "def train(x, y, W1_init, W2_init, alpha=0.01, epochs=10):\n",
        "    w1, w2 = W1_init, W2_init\n",
        "    for i in range(epochs):\n",
        "        h, y_hat = forward_pass(x, w1, w2)\n",
        "        loss_value = mse_loss(y, y_hat)\n",
        "        dL_dW1, dL_dW2 = compute_gradients(x, w1, w2, y)\n",
        "        print(f\"Iteration {i+1:2d} | w1 = {w1:7.3f}, w2 = {w2:7.3f} | \"\n",
        "              f\"y_hat = {y_hat:7.3f} | loss = {loss_value:8.3f}\")\n",
        "        w1 -= alpha * dL_dW1\n",
        "        w2 -= alpha * dL_dW2\n",
        "    return w1, w2\n",
        "\n",
        "# run\n",
        "if __name__ == \"__main__\":\n",
        "    x = 2.0\n",
        "    y = 20.0\n",
        "    W1_init = 2.0\n",
        "    W2_init = 0.5\n",
        "    alpha = 0.01\n",
        "    print(\"Training started\")\n",
        "    W1_final, W2_final = train(x, y, W1_init, W2_init, alpha=alpha, epochs=10)\n",
        "    print(\"Training complete\")\n",
        "\n",
        "\n",
        "\n"
      ],
      "metadata": {
        "id": "3skuU3XpnB3B",
        "colab": {
          "base_uri": "https://localhost:8080/"
        },
        "outputId": "1d95c5c6-20a9-40fa-bcd6-4894dde084f5"
      },
      "execution_count": null,
      "outputs": [
        {
          "output_type": "stream",
          "name": "stdout",
          "text": [
            "Training started\n",
            "Iteration  1 | w1 =   2.000, w2 =   0.500 | y_hat =   2.000 | loss =  162.000\n",
            "Iteration  2 | w1 =   2.180, w2 =   1.220 | y_hat =   5.319 | loss =  107.763\n",
            "Iteration  3 | w1 =   2.538, w2 =   1.860 | y_hat =   9.443 | loss =   55.730\n",
            "Iteration  4 | w1 =   2.931, w2 =   2.396 | y_hat =  14.045 | loss =   17.729\n",
            "Iteration  5 | w1 =   3.216, w2 =   2.745 | y_hat =  17.658 | loss =    2.742\n",
            "Iteration  6 | w1 =   3.345, w2 =   2.896 | y_hat =  19.372 | loss =    0.197\n",
            "Iteration  7 | w1 =   3.381, w2 =   2.938 | y_hat =  19.867 | loss =    0.009\n",
            "Iteration  8 | w1 =   3.389, w2 =   2.947 | y_hat =  19.974 | loss =    0.000\n",
            "Iteration  9 | w1 =   3.391, w2 =   2.949 | y_hat =  19.995 | loss =    0.000\n",
            "Iteration 10 | w1 =   3.391, w2 =   2.949 | y_hat =  19.999 | loss =    0.000\n",
            "Training complete\n"
          ]
        }
      ]
    },
    {
      "cell_type": "code",
      "source": [],
      "metadata": {
        "id": "By56Nnzdt6Ut"
      },
      "execution_count": null,
      "outputs": []
    }
  ]
}